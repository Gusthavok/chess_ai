{
 "cells": [
  {
   "cell_type": "markdown",
   "id": "cf097ad6",
   "metadata": {
    "papermill": {
     "duration": 0.004911,
     "end_time": "2024-11-29T15:36:25.481528",
     "exception": false,
     "start_time": "2024-11-29T15:36:25.476617",
     "status": "completed"
    },
    "tags": []
   },
   "source": [
    "# Elo World Strength Benchmarking"
   ]
  },
  {
   "cell_type": "markdown",
   "id": "b29b44d5",
   "metadata": {
    "papermill": {
     "duration": 0.00343,
     "end_time": "2024-11-29T15:36:25.488964",
     "exception": false,
     "start_time": "2024-11-29T15:36:25.485534",
     "status": "completed"
    },
    "tags": []
   },
   "source": [
    "When I saw this competition and decided to join the first thing I thought to myself is that it would be nice to have a way to know how strong the bot im making is without submitting it. \n",
    "So I tossed together this notebook that allows you to benchmark any bot you make against different dilutions of stockfish.\n",
    "Simply use the Benchmark class I wrote, add your player then run some games and you will get a decent estimate for the strength of your bot relative to the dilutions.\n",
    "I was inspired to make this by DR. TOM MURPHY VII PH.D or suckerpinch on youtube who made both the video \"30 Weird Chess Algorithms: Elo World\" at \"https://www.youtube.com/watch?v=DpXy041BIlA\" and a corresponding paper \"Elo World, a framework for benchmarking weak chess engines\" at \"http://tom7.org/chess/weak.pdf\"\n"
   ]
  },
  {
   "cell_type": "markdown",
   "id": "517271ed",
   "metadata": {
    "papermill": {
     "duration": 0.004144,
     "end_time": "2024-11-29T15:36:25.497279",
     "exception": false,
     "start_time": "2024-11-29T15:36:25.493135",
     "status": "completed"
    },
    "tags": []
   },
   "source": [
    "To allow more general comparisons between engines I suggest that you either use the parameters I have in this notebook or a set of canonical ones I will comment under this notebook. Then when you see an elo score estimated using this notebook youll know how it was created and can measure yourself against it."
   ]
  },
  {
   "cell_type": "markdown",
   "id": "0c0d2219",
   "metadata": {
    "papermill": {
     "duration": 0.003377,
     "end_time": "2024-11-29T15:36:25.504448",
     "exception": false,
     "start_time": "2024-11-29T15:36:25.501071",
     "status": "completed"
    },
    "tags": []
   },
   "source": [
    "# Installing stockfish"
   ]
  },
  {
   "cell_type": "code",
   "execution_count": 21,
   "id": "04971122",
   "metadata": {
    "_cell_guid": "b1076dfc-b9ad-4769-8c92-a6c4dae69d19",
    "_kg_hide-input": false,
    "_kg_hide-output": true,
    "_uuid": "8f2839f25d086af736a60e9eeb907d3b93b6e0e5",
    "execution": {
     "iopub.execute_input": "2024-11-29T15:36:25.514767Z",
     "iopub.status.busy": "2024-11-29T15:36:25.514341Z",
     "iopub.status.idle": "2024-11-29T15:36:44.752584Z",
     "shell.execute_reply": "2024-11-29T15:36:44.751232Z"
    },
    "papermill": {
     "duration": 19.246502,
     "end_time": "2024-11-29T15:36:44.755081",
     "exception": false,
     "start_time": "2024-11-29T15:36:25.508579",
     "status": "completed"
    },
    "tags": []
   },
   "outputs": [],
   "source": [
    "# !pip install chess elote\n",
    "# # Download the Stockfish binary\n",
    "# !wget https://github.com/official-stockfish/Stockfish/releases/latest/download/stockfish-ubuntu-x86-64-avx2.tar\n",
    "\n",
    "# # Extract the tar file\n",
    "# !tar -xvf stockfish-ubuntu-x86-64-avx2.tar\n",
    "\n"
   ]
  },
  {
   "cell_type": "markdown",
   "id": "69f1c5ce",
   "metadata": {
    "papermill": {
     "duration": 0.004787,
     "end_time": "2024-11-29T15:36:44.765226",
     "exception": false,
     "start_time": "2024-11-29T15:36:44.760439",
     "status": "completed"
    },
    "tags": []
   },
   "source": [
    "# Define Benchmarking bot"
   ]
  },
  {
   "cell_type": "code",
   "execution_count": 22,
   "id": "c990f19b",
   "metadata": {
    "_kg_hide-input": true,
    "_kg_hide-output": true,
    "execution": {
     "iopub.execute_input": "2024-11-29T15:36:44.777514Z",
     "iopub.status.busy": "2024-11-29T15:36:44.777034Z",
     "iopub.status.idle": "2024-11-29T15:36:45.277863Z",
     "shell.execute_reply": "2024-11-29T15:36:45.276790Z"
    },
    "papermill": {
     "duration": 0.510045,
     "end_time": "2024-11-29T15:36:45.280490",
     "exception": false,
     "start_time": "2024-11-29T15:36:44.770445",
     "status": "completed"
    },
    "tags": []
   },
   "outputs": [],
   "source": [
    "import chess\n",
    "import chess.engine\n",
    "import random\n",
    "from elote import EloCompetitor\n",
    "from fractions import Fraction\n",
    "engine_path = \"./stockfish/stockfish-ubuntu-x86-64-avx2\"  # Update the path if necessary\n",
    "engine = chess.engine.SimpleEngine.popen_uci(engine_path)\n",
    "\n",
    "class StockFish_BOT:\n",
    "    def __init__(self, percentage_random_moves=0, time_limit=1, engine=None):\n",
    "        if engine is None:\n",
    "            engine = chess.engine.SimpleEngine.popen_uci(\"./stockfish/stockfish-ubuntu-x86-64-avx2\")\n",
    "        else:\n",
    "            self.engine = engine\n",
    "        self.rnd_chance = max(min(percentage_random_moves, 1), 0)\n",
    "        self.time_limit = time_limit\n",
    "        self.limit = chess.engine.Limit(time=time_limit)\n",
    "        self.elo = EloCompetitor(initial_rating=400)\n",
    "        self.dilution_ratio = Fraction(self.rnd_chance/(1.01-self.rnd_chance)).limit_denominator(100)\n",
    "\n",
    "    def make_move(self, board):\n",
    "        if random.random() < self.rnd_chance:\n",
    "            return random.choice(list(board.legal_moves))\n",
    "        else:\n",
    "            return engine.play(board, self.limit).move\n",
    "\n",
    "    def __repr__(self):\n",
    "        return f\"Stockfish Bot - Thinking Time: {self.time_limit} Seconds - Diluted at {self.dilution_ratio} - Random move chance {round(self.rnd_chance, 2)*100}%\"\n",
    "        "
   ]
  },
  {
   "cell_type": "code",
   "execution_count": 23,
   "id": "232501db",
   "metadata": {},
   "outputs": [],
   "source": [
    "import chess\n",
    "import random\n",
    "from elote import EloCompetitor\n",
    "import sys\n",
    "from pathlib import Path\n",
    "\n",
    "# Ajoute le chemin du répertoire parent au sys.path\n",
    "sys.path.append('../')\n",
    "from agent.simple_agent import action_agent\n",
    "from evaluator.utils.model_CNN import ChessModelCNN\n",
    "from evaluator.utils.model_Transformer import load_existing_model\n",
    "\n",
    "class Personal_BOT:\n",
    "    def __init__(self, model_path, model_number, percentage_random_moves=0, time_limit=1):\n",
    "\n",
    "        self.number=model_number\n",
    "        self.rnd_chance = max(min(percentage_random_moves, 1), 0)\n",
    "        self.time_limit = time_limit\n",
    "        self.elo = EloCompetitor(initial_rating=400)\n",
    "        self.agent_net = ChessModelCNN()\n",
    "        self.agent_net = load_existing_model(model=self.agent_net, model_path=model_path)\n",
    "        self.as_matrix = True\n",
    "\n",
    "    def make_move(self, board):\n",
    "        if random.random() < self.rnd_chance:\n",
    "            return random.choice(list(board.legal_moves))\n",
    "        else:\n",
    "            return action_agent(board, self.agent_net, as_matrix=self.as_matrix)\n",
    "\n",
    "    def __repr__(self):\n",
    "        return f\"Personnal Bot {self.number}- Random move chance {round(self.rnd_chance, 2)*100}%\"\n",
    "        "
   ]
  },
  {
   "cell_type": "code",
   "execution_count": 24,
   "id": "fe1ef0a1",
   "metadata": {
    "_kg_hide-output": false,
    "execution": {
     "iopub.execute_input": "2024-11-29T15:36:45.292536Z",
     "iopub.status.busy": "2024-11-29T15:36:45.292115Z",
     "iopub.status.idle": "2024-11-29T15:36:45.304495Z",
     "shell.execute_reply": "2024-11-29T15:36:45.303263Z"
    },
    "papermill": {
     "duration": 0.02115,
     "end_time": "2024-11-29T15:36:45.306767",
     "exception": false,
     "start_time": "2024-11-29T15:36:45.285617",
     "status": "completed"
    },
    "tags": []
   },
   "outputs": [],
   "source": [
    "from elote import LambdaArena\n",
    "from tqdm import tqdm\n",
    "import numpy as np\n",
    "\n",
    "class Benchmark:\n",
    "    def __init__(self, num_baseline_players=10, baseline_player_time_limit=0.01, baseline_engine=None, use_random_percentages=False):\n",
    "        self.arena = LambdaArena(self.play_game)\n",
    "        self.num_baseline_players = num_baseline_players\n",
    "        self.baseline_player_time_limit = baseline_player_time_limit\n",
    "        if use_random_percentages:\n",
    "            self.players = [StockFish_BOT(percentage_random_moves = random.random(), time_limit=self.baseline_player_time_limit, engine=baseline_engine) for _ in tqdm(range(self.num_baseline_players))]\n",
    "        else:\n",
    "            values = np.linspace(0, 1, self.num_baseline_players)\n",
    "            self.players = [StockFish_BOT(percentage_random_moves = p, time_limit=self.baseline_player_time_limit, engine=baseline_engine) for p in tqdm(values)]\n",
    "        \n",
    "\n",
    "    def add_test_player(self, player):\n",
    "        self.players.append(player)\n",
    "    \n",
    "    def play_game(self, player1, player2):\n",
    "        board = chess.Board()\n",
    "        board.push(random.choice(list(board.legal_moves)))\n",
    "        done = False\n",
    "    \n",
    "        while not done:\n",
    "            board.push(player2.make_move(board))\n",
    "            \n",
    "            outcome = board.outcome(claim_draw=True)\n",
    "            if outcome is not None:\n",
    "                return outcome.winner\n",
    "    \n",
    "            board.push(player1.make_move(board))\n",
    "            \n",
    "            outcome = board.outcome(claim_draw=True)\n",
    "            if outcome is not None:\n",
    "                return outcome.winner\n",
    "\n",
    "    def run_games(self, num_games=10):\n",
    "        matchups = [tuple(random.choices(self.players, k = 2)) for _ in range(num_games)]\n",
    "        self.arena.tournament(matchups)\n",
    "\n",
    "    def return_leaderboard(self):\n",
    "        leaderboard = self.arena.leaderboard()\n",
    "\n",
    "        min_score = min([i[\"rating\"] for i in leaderboard])\n",
    "\n",
    "        for player in leaderboard:\n",
    "            player[\"rating\"] = round((player[\"rating\"] - min_score)+100, 2)\n",
    "\n",
    "        return leaderboard\n",
    "        \n",
    "        "
   ]
  },
  {
   "cell_type": "markdown",
   "id": "97b6ce3e",
   "metadata": {
    "papermill": {
     "duration": 0.004909,
     "end_time": "2024-11-29T15:36:45.317795",
     "exception": false,
     "start_time": "2024-11-29T15:36:45.312886",
     "status": "completed"
    },
    "tags": []
   },
   "source": [
    "# Example Use"
   ]
  },
  {
   "cell_type": "code",
   "execution_count": 25,
   "id": "c9181e64",
   "metadata": {
    "execution": {
     "iopub.execute_input": "2024-11-29T15:36:45.329868Z",
     "iopub.status.busy": "2024-11-29T15:36:45.329450Z",
     "iopub.status.idle": "2024-11-29T15:36:45.352668Z",
     "shell.execute_reply": "2024-11-29T15:36:45.351488Z"
    },
    "papermill": {
     "duration": 0.03224,
     "end_time": "2024-11-29T15:36:45.355191",
     "exception": false,
     "start_time": "2024-11-29T15:36:45.322951",
     "status": "completed"
    },
    "tags": []
   },
   "outputs": [
    {
     "name": "stderr",
     "output_type": "stream",
     "text": [
      "100%|██████████| 50/50 [00:00<00:00, 90785.80it/s]\n"
     ]
    }
   ],
   "source": [
    "benchmark = Benchmark(num_baseline_players=50, baseline_player_time_limit=0.01, baseline_engine=engine, use_random_percentages=False)"
   ]
  },
  {
   "cell_type": "code",
   "execution_count": 26,
   "id": "3b513953",
   "metadata": {
    "execution": {
     "iopub.execute_input": "2024-11-29T15:36:45.367468Z",
     "iopub.status.busy": "2024-11-29T15:36:45.367093Z",
     "iopub.status.idle": "2024-11-29T15:36:45.376150Z",
     "shell.execute_reply": "2024-11-29T15:36:45.375157Z"
    },
    "papermill": {
     "duration": 0.017982,
     "end_time": "2024-11-29T15:36:45.378469",
     "exception": false,
     "start_time": "2024-11-29T15:36:45.360487",
     "status": "completed"
    },
    "tags": []
   },
   "outputs": [
    {
     "data": {
      "text/plain": [
       "[Stockfish Bot - Thinking Time: 0.01 Seconds - Diluted at 0 - Random move chance 0.0%,\n",
       " Stockfish Bot - Thinking Time: 0.01 Seconds - Diluted at 2/97 - Random move chance 2.0%,\n",
       " Stockfish Bot - Thinking Time: 0.01 Seconds - Diluted at 4/95 - Random move chance 4.0%,\n",
       " Stockfish Bot - Thinking Time: 0.01 Seconds - Diluted at 2/31 - Random move chance 6.0%,\n",
       " Stockfish Bot - Thinking Time: 0.01 Seconds - Diluted at 8/91 - Random move chance 8.0%,\n",
       " Stockfish Bot - Thinking Time: 0.01 Seconds - Diluted at 10/89 - Random move chance 10.0%,\n",
       " Stockfish Bot - Thinking Time: 0.01 Seconds - Diluted at 4/29 - Random move chance 12.0%,\n",
       " Stockfish Bot - Thinking Time: 0.01 Seconds - Diluted at 14/85 - Random move chance 14.000000000000002%,\n",
       " Stockfish Bot - Thinking Time: 0.01 Seconds - Diluted at 16/83 - Random move chance 16.0%,\n",
       " Stockfish Bot - Thinking Time: 0.01 Seconds - Diluted at 2/9 - Random move chance 18.0%,\n",
       " Stockfish Bot - Thinking Time: 0.01 Seconds - Diluted at 20/79 - Random move chance 20.0%,\n",
       " Stockfish Bot - Thinking Time: 0.01 Seconds - Diluted at 2/7 - Random move chance 22.0%,\n",
       " Stockfish Bot - Thinking Time: 0.01 Seconds - Diluted at 8/25 - Random move chance 24.0%,\n",
       " Stockfish Bot - Thinking Time: 0.01 Seconds - Diluted at 31/87 - Random move chance 27.0%,\n",
       " Stockfish Bot - Thinking Time: 0.01 Seconds - Diluted at 28/71 - Random move chance 28.999999999999996%,\n",
       " Stockfish Bot - Thinking Time: 0.01 Seconds - Diluted at 10/23 - Random move chance 31.0%,\n",
       " Stockfish Bot - Thinking Time: 0.01 Seconds - Diluted at 43/90 - Random move chance 33.0%,\n",
       " Stockfish Bot - Thinking Time: 0.01 Seconds - Diluted at 45/86 - Random move chance 35.0%,\n",
       " Stockfish Bot - Thinking Time: 0.01 Seconds - Diluted at 4/7 - Random move chance 37.0%,\n",
       " Stockfish Bot - Thinking Time: 0.01 Seconds - Diluted at 43/69 - Random move chance 39.0%,\n",
       " Stockfish Bot - Thinking Time: 0.01 Seconds - Diluted at 59/87 - Random move chance 41.0%,\n",
       " Stockfish Bot - Thinking Time: 0.01 Seconds - Diluted at 14/19 - Random move chance 43.0%,\n",
       " Stockfish Bot - Thinking Time: 0.01 Seconds - Diluted at 4/5 - Random move chance 45.0%,\n",
       " Stockfish Bot - Thinking Time: 0.01 Seconds - Diluted at 79/91 - Random move chance 47.0%,\n",
       " Stockfish Bot - Thinking Time: 0.01 Seconds - Diluted at 81/86 - Random move chance 49.0%,\n",
       " Stockfish Bot - Thinking Time: 0.01 Seconds - Diluted at 49/48 - Random move chance 51.0%,\n",
       " Stockfish Bot - Thinking Time: 0.01 Seconds - Diluted at 83/75 - Random move chance 53.0%,\n",
       " Stockfish Bot - Thinking Time: 0.01 Seconds - Diluted at 6/5 - Random move chance 55.00000000000001%,\n",
       " Stockfish Bot - Thinking Time: 0.01 Seconds - Diluted at 43/33 - Random move chance 56.99999999999999%,\n",
       " Stockfish Bot - Thinking Time: 0.01 Seconds - Diluted at 92/65 - Random move chance 59.0%,\n",
       " Stockfish Bot - Thinking Time: 0.01 Seconds - Diluted at 137/89 - Random move chance 61.0%,\n",
       " Stockfish Bot - Thinking Time: 0.01 Seconds - Diluted at 57/34 - Random move chance 63.0%,\n",
       " Stockfish Bot - Thinking Time: 0.01 Seconds - Diluted at 161/88 - Random move chance 65.0%,\n",
       " Stockfish Bot - Thinking Time: 0.01 Seconds - Diluted at 2 - Random move chance 67.0%,\n",
       " Stockfish Bot - Thinking Time: 0.01 Seconds - Diluted at 90/41 - Random move chance 69.0%,\n",
       " Stockfish Bot - Thinking Time: 0.01 Seconds - Diluted at 157/65 - Random move chance 71.0%,\n",
       " Stockfish Bot - Thinking Time: 0.01 Seconds - Diluted at 267/100 - Random move chance 73.0%,\n",
       " Stockfish Bot - Thinking Time: 0.01 Seconds - Diluted at 157/53 - Random move chance 76.0%,\n",
       " Stockfish Bot - Thinking Time: 0.01 Seconds - Diluted at 291/88 - Random move chance 78.0%,\n",
       " Stockfish Bot - Thinking Time: 0.01 Seconds - Diluted at 145/39 - Random move chance 80.0%,\n",
       " Stockfish Bot - Thinking Time: 0.01 Seconds - Diluted at 392/93 - Random move chance 82.0%,\n",
       " Stockfish Bot - Thinking Time: 0.01 Seconds - Diluted at 198/41 - Random move chance 84.0%,\n",
       " Stockfish Bot - Thinking Time: 0.01 Seconds - Diluted at 443/79 - Random move chance 86.0%,\n",
       " Stockfish Bot - Thinking Time: 0.01 Seconds - Diluted at 53/8 - Random move chance 88.0%,\n",
       " Stockfish Bot - Thinking Time: 0.01 Seconds - Diluted at 553/69 - Random move chance 90.0%,\n",
       " Stockfish Bot - Thinking Time: 0.01 Seconds - Diluted at 451/45 - Random move chance 92.0%,\n",
       " Stockfish Bot - Thinking Time: 0.01 Seconds - Diluted at 949/72 - Random move chance 94.0%,\n",
       " Stockfish Bot - Thinking Time: 0.01 Seconds - Diluted at 151/8 - Random move chance 96.0%,\n",
       " Stockfish Bot - Thinking Time: 0.01 Seconds - Diluted at 2996/93 - Random move chance 98.0%,\n",
       " Stockfish Bot - Thinking Time: 0.01 Seconds - Diluted at 100 - Random move chance 100.0%]"
      ]
     },
     "execution_count": 26,
     "metadata": {},
     "output_type": "execute_result"
    }
   ],
   "source": [
    "benchmark.players"
   ]
  },
  {
   "cell_type": "code",
   "execution_count": 27,
   "id": "fc336723",
   "metadata": {
    "execution": {
     "iopub.execute_input": "2024-11-29T15:36:45.390945Z",
     "iopub.status.busy": "2024-11-29T15:36:45.390594Z",
     "iopub.status.idle": "2024-11-29T15:36:45.774783Z",
     "shell.execute_reply": "2024-11-29T15:36:45.773424Z"
    },
    "papermill": {
     "duration": 0.393534,
     "end_time": "2024-11-29T15:36:45.777438",
     "exception": false,
     "start_time": "2024-11-29T15:36:45.383904",
     "status": "completed"
    },
    "tags": []
   },
   "outputs": [
    {
     "name": "stderr",
     "output_type": "stream",
     "text": [
      "/Data/augustin.kheng/chess_ai/agent/../evaluator/utils/model_Transformer.py:102: FutureWarning: You are using `torch.load` with `weights_only=False` (the current default value), which uses the default pickle module implicitly. It is possible to construct malicious pickle data which will execute arbitrary code during unpickling (See https://github.com/pytorch/pytorch/blob/main/SECURITY.md#untrusted-models for more details). In a future release, the default value for `weights_only` will be flipped to `True`. This limits the functions that could be executed during unpickling. Arbitrary objects will no longer be allowed to be loaded via this mode unless they are explicitly allowlisted by the user via `torch.serialization.add_safe_globals`. We recommend you start setting `weights_only=True` for any use case where you don't have full control of the loaded file. Please open an issue on GitHub for any issues related to this experimental feature.\n",
      "  model.load_state_dict(state_dict=torch.load(model_path))\n"
     ]
    }
   ],
   "source": [
    "benchmark.add_test_player(Personal_BOT(model_path=\"../output/CNN_2.0/model_number_1\", model_number=0))\n",
    "benchmark.add_test_player(Personal_BOT(model_path=\"../output/CNN_2.1/model_number_1\", model_number=1))\n",
    "benchmark.add_test_player(Personal_BOT(model_path=\"../output/CNN_2.2/model_number_1\", model_number=2))\n",
    "benchmark.add_test_player(Personal_BOT(model_path=\"../output/CNN_2.3/model_number_1\", model_number=3))\n"
   ]
  },
  {
   "cell_type": "code",
   "execution_count": 28,
   "id": "1af35db5",
   "metadata": {
    "execution": {
     "iopub.execute_input": "2024-11-29T15:36:45.790000Z",
     "iopub.status.busy": "2024-11-29T15:36:45.789626Z",
     "iopub.status.idle": "2024-11-29T15:52:58.560877Z",
     "shell.execute_reply": "2024-11-29T15:52:58.559493Z"
    },
    "papermill": {
     "duration": 972.780616,
     "end_time": "2024-11-29T15:52:58.563554",
     "exception": false,
     "start_time": "2024-11-29T15:36:45.782938",
     "status": "completed"
    },
    "tags": []
   },
   "outputs": [
    {
     "name": "stderr",
     "output_type": "stream",
     "text": [
      "100%|██████████| 2000/2000 [10:57<00:00,  3.04it/s]\n"
     ]
    }
   ],
   "source": [
    "benchmark.run_games(num_games=2000)"
   ]
  },
  {
   "cell_type": "code",
   "execution_count": 29,
   "id": "08de4381",
   "metadata": {
    "execution": {
     "iopub.execute_input": "2024-11-29T15:52:58.782974Z",
     "iopub.status.busy": "2024-11-29T15:52:58.782537Z",
     "iopub.status.idle": "2024-11-29T15:52:58.794992Z",
     "shell.execute_reply": "2024-11-29T15:52:58.793726Z"
    },
    "papermill": {
     "duration": 0.122908,
     "end_time": "2024-11-29T15:52:58.797435",
     "exception": false,
     "start_time": "2024-11-29T15:52:58.674527",
     "status": "completed"
    },
    "tags": []
   },
   "outputs": [
    {
     "data": {
      "text/plain": [
       "[{'competitor': Personnal Bot 2- Random move chance 0%, 'rating': 100.0},\n",
       " {'competitor': Personnal Bot 1- Random move chance 0%, 'rating': 135.25},\n",
       " {'competitor': Stockfish Bot - Thinking Time: 0.01 Seconds - Diluted at 100 - Random move chance 100.0%,\n",
       "  'rating': 149.14},\n",
       " {'competitor': Personnal Bot 1- Random move chance 0%, 'rating': 181.51},\n",
       " {'competitor': Stockfish Bot - Thinking Time: 0.01 Seconds - Diluted at 949/72 - Random move chance 94.0%,\n",
       "  'rating': 237.21},\n",
       " {'competitor': Stockfish Bot - Thinking Time: 0.01 Seconds - Diluted at 553/69 - Random move chance 90.0%,\n",
       "  'rating': 244.4},\n",
       " {'competitor': Stockfish Bot - Thinking Time: 0.01 Seconds - Diluted at 2996/93 - Random move chance 98.0%,\n",
       "  'rating': 254.93},\n",
       " {'competitor': Stockfish Bot - Thinking Time: 0.01 Seconds - Diluted at 151/8 - Random move chance 96.0%,\n",
       "  'rating': 258.04},\n",
       " {'competitor': Stockfish Bot - Thinking Time: 0.01 Seconds - Diluted at 451/45 - Random move chance 92.0%,\n",
       "  'rating': 274.24},\n",
       " {'competitor': Stockfish Bot - Thinking Time: 0.01 Seconds - Diluted at 53/8 - Random move chance 88.0%,\n",
       "  'rating': 290.06},\n",
       " {'competitor': Stockfish Bot - Thinking Time: 0.01 Seconds - Diluted at 443/79 - Random move chance 86.0%,\n",
       "  'rating': 316.32},\n",
       " {'competitor': Stockfish Bot - Thinking Time: 0.01 Seconds - Diluted at 392/93 - Random move chance 82.0%,\n",
       "  'rating': 320.58},\n",
       " {'competitor': Stockfish Bot - Thinking Time: 0.01 Seconds - Diluted at 198/41 - Random move chance 84.0%,\n",
       "  'rating': 336.52},\n",
       " {'competitor': Stockfish Bot - Thinking Time: 0.01 Seconds - Diluted at 267/100 - Random move chance 73.0%,\n",
       "  'rating': 348.61},\n",
       " {'competitor': Stockfish Bot - Thinking Time: 0.01 Seconds - Diluted at 291/88 - Random move chance 78.0%,\n",
       "  'rating': 384.66},\n",
       " {'competitor': Stockfish Bot - Thinking Time: 0.01 Seconds - Diluted at 157/53 - Random move chance 76.0%,\n",
       "  'rating': 398.24},\n",
       " {'competitor': Stockfish Bot - Thinking Time: 0.01 Seconds - Diluted at 145/39 - Random move chance 80.0%,\n",
       "  'rating': 405.46},\n",
       " {'competitor': Stockfish Bot - Thinking Time: 0.01 Seconds - Diluted at 2 - Random move chance 67.0%,\n",
       "  'rating': 437.25},\n",
       " {'competitor': Stockfish Bot - Thinking Time: 0.01 Seconds - Diluted at 157/65 - Random move chance 71.0%,\n",
       "  'rating': 440.25},\n",
       " {'competitor': Stockfish Bot - Thinking Time: 0.01 Seconds - Diluted at 90/41 - Random move chance 69.0%,\n",
       "  'rating': 440.61},\n",
       " {'competitor': Stockfish Bot - Thinking Time: 0.01 Seconds - Diluted at 57/34 - Random move chance 63.0%,\n",
       "  'rating': 470.84},\n",
       " {'competitor': Stockfish Bot - Thinking Time: 0.01 Seconds - Diluted at 92/65 - Random move chance 59.0%,\n",
       "  'rating': 479.48},\n",
       " {'competitor': Stockfish Bot - Thinking Time: 0.01 Seconds - Diluted at 161/88 - Random move chance 65.0%,\n",
       "  'rating': 490.17},\n",
       " {'competitor': Stockfish Bot - Thinking Time: 0.01 Seconds - Diluted at 81/86 - Random move chance 49.0%,\n",
       "  'rating': 511.54},\n",
       " {'competitor': Stockfish Bot - Thinking Time: 0.01 Seconds - Diluted at 137/89 - Random move chance 61.0%,\n",
       "  'rating': 526.23},\n",
       " {'competitor': Stockfish Bot - Thinking Time: 0.01 Seconds - Diluted at 49/48 - Random move chance 51.0%,\n",
       "  'rating': 549.04},\n",
       " {'competitor': Stockfish Bot - Thinking Time: 0.01 Seconds - Diluted at 6/5 - Random move chance 55.00000000000001%,\n",
       "  'rating': 552.95},\n",
       " {'competitor': Stockfish Bot - Thinking Time: 0.01 Seconds - Diluted at 79/91 - Random move chance 47.0%,\n",
       "  'rating': 555.92},\n",
       " {'competitor': Stockfish Bot - Thinking Time: 0.01 Seconds - Diluted at 43/33 - Random move chance 56.99999999999999%,\n",
       "  'rating': 573.03},\n",
       " {'competitor': Stockfish Bot - Thinking Time: 0.01 Seconds - Diluted at 83/75 - Random move chance 53.0%,\n",
       "  'rating': 594.84},\n",
       " {'competitor': Stockfish Bot - Thinking Time: 0.01 Seconds - Diluted at 45/86 - Random move chance 35.0%,\n",
       "  'rating': 645.83},\n",
       " {'competitor': Stockfish Bot - Thinking Time: 0.01 Seconds - Diluted at 14/19 - Random move chance 43.0%,\n",
       "  'rating': 646.79},\n",
       " {'competitor': Stockfish Bot - Thinking Time: 0.01 Seconds - Diluted at 4/5 - Random move chance 45.0%,\n",
       "  'rating': 656.83},\n",
       " {'competitor': Stockfish Bot - Thinking Time: 0.01 Seconds - Diluted at 43/69 - Random move chance 39.0%,\n",
       "  'rating': 700.46},\n",
       " {'competitor': Stockfish Bot - Thinking Time: 0.01 Seconds - Diluted at 4/7 - Random move chance 37.0%,\n",
       "  'rating': 722.94},\n",
       " {'competitor': Stockfish Bot - Thinking Time: 0.01 Seconds - Diluted at 8/25 - Random move chance 24.0%,\n",
       "  'rating': 750.04},\n",
       " {'competitor': Stockfish Bot - Thinking Time: 0.01 Seconds - Diluted at 43/90 - Random move chance 33.0%,\n",
       "  'rating': 759.61},\n",
       " {'competitor': Stockfish Bot - Thinking Time: 0.01 Seconds - Diluted at 28/71 - Random move chance 28.999999999999996%,\n",
       "  'rating': 760.26},\n",
       " {'competitor': Stockfish Bot - Thinking Time: 0.01 Seconds - Diluted at 59/87 - Random move chance 41.0%,\n",
       "  'rating': 766.92},\n",
       " {'competitor': Stockfish Bot - Thinking Time: 0.01 Seconds - Diluted at 31/87 - Random move chance 27.0%,\n",
       "  'rating': 785.07},\n",
       " {'competitor': Stockfish Bot - Thinking Time: 0.01 Seconds - Diluted at 20/79 - Random move chance 20.0%,\n",
       "  'rating': 789.51},\n",
       " {'competitor': Stockfish Bot - Thinking Time: 0.01 Seconds - Diluted at 2/9 - Random move chance 18.0%,\n",
       "  'rating': 804.12},\n",
       " {'competitor': Stockfish Bot - Thinking Time: 0.01 Seconds - Diluted at 10/23 - Random move chance 31.0%,\n",
       "  'rating': 806.35},\n",
       " {'competitor': Stockfish Bot - Thinking Time: 0.01 Seconds - Diluted at 2/7 - Random move chance 22.0%,\n",
       "  'rating': 834.11},\n",
       " {'competitor': Stockfish Bot - Thinking Time: 0.01 Seconds - Diluted at 4/29 - Random move chance 12.0%,\n",
       "  'rating': 881.9},\n",
       " {'competitor': Stockfish Bot - Thinking Time: 0.01 Seconds - Diluted at 16/83 - Random move chance 16.0%,\n",
       "  'rating': 904.27},\n",
       " {'competitor': Stockfish Bot - Thinking Time: 0.01 Seconds - Diluted at 14/85 - Random move chance 14.000000000000002%,\n",
       "  'rating': 909.99},\n",
       " {'competitor': Stockfish Bot - Thinking Time: 0.01 Seconds - Diluted at 10/89 - Random move chance 10.0%,\n",
       "  'rating': 917.04},\n",
       " {'competitor': Stockfish Bot - Thinking Time: 0.01 Seconds - Diluted at 2/31 - Random move chance 6.0%,\n",
       "  'rating': 926.76},\n",
       " {'competitor': Stockfish Bot - Thinking Time: 0.01 Seconds - Diluted at 8/91 - Random move chance 8.0%,\n",
       "  'rating': 952.43},\n",
       " {'competitor': Stockfish Bot - Thinking Time: 0.01 Seconds - Diluted at 4/95 - Random move chance 4.0%,\n",
       "  'rating': 984.13},\n",
       " {'competitor': Stockfish Bot - Thinking Time: 0.01 Seconds - Diluted at 2/97 - Random move chance 2.0%,\n",
       "  'rating': 999.19},\n",
       " {'competitor': Stockfish Bot - Thinking Time: 0.01 Seconds - Diluted at 0 - Random move chance 0.0%,\n",
       "  'rating': 1056.45}]"
      ]
     },
     "execution_count": 29,
     "metadata": {},
     "output_type": "execute_result"
    }
   ],
   "source": [
    "benchmark.return_leaderboard()"
   ]
  },
  {
   "cell_type": "markdown",
   "id": "efdd9f29",
   "metadata": {
    "papermill": {
     "duration": 0.107884,
     "end_time": "2024-11-29T15:52:59.013395",
     "exception": false,
     "start_time": "2024-11-29T15:52:58.905511",
     "status": "completed"
    },
    "tags": []
   },
   "source": [
    "# You can use the run_games method at any time"
   ]
  },
  {
   "cell_type": "code",
   "execution_count": 30,
   "id": "c8b7c8b8",
   "metadata": {
    "_kg_hide-input": true,
    "_kg_hide-output": true,
    "execution": {
     "iopub.execute_input": "2024-11-29T15:52:59.264036Z",
     "iopub.status.busy": "2024-11-29T15:52:59.262843Z",
     "iopub.status.idle": "2024-11-29T15:52:59.276026Z",
     "shell.execute_reply": "2024-11-29T15:52:59.274706Z"
    },
    "papermill": {
     "duration": 0.14772,
     "end_time": "2024-11-29T15:52:59.280026",
     "exception": false,
     "start_time": "2024-11-29T15:52:59.132306",
     "status": "completed"
    },
    "tags": []
   },
   "outputs": [
    {
     "data": {
      "text/plain": [
       "'\\n\\nnum_rounds = 20\\nfor iteration in range(num_rounds):\\n    benchmark.run_games(num_games=100)\\n    print(\"-\"*100)\\n    print(f\"iteration {iteration+1} / {num_rounds}\")\\n    for competitor in benchmark.return_leaderboard():\\n        print(competitor)\\n    print(\"-\"*100)\\n\\n'"
      ]
     },
     "execution_count": 30,
     "metadata": {},
     "output_type": "execute_result"
    }
   ],
   "source": [
    "\"\"\"\n",
    "\n",
    "num_rounds = 20\n",
    "for iteration in range(num_rounds):\n",
    "    benchmark.run_games(num_games=100)\n",
    "    print(\"-\"*100)\n",
    "    print(f\"iteration {iteration+1} / {num_rounds}\")\n",
    "    for competitor in benchmark.return_leaderboard():\n",
    "        print(competitor)\n",
    "    print(\"-\"*100)\n",
    "\n",
    "\"\"\""
   ]
  },
  {
   "cell_type": "markdown",
   "id": "350aab68",
   "metadata": {
    "papermill": {
     "duration": 0.108761,
     "end_time": "2024-11-29T15:52:59.509919",
     "exception": false,
     "start_time": "2024-11-29T15:52:59.401158",
     "status": "completed"
    },
    "tags": []
   },
   "source": [
    "# Workspace"
   ]
  }
 ],
 "metadata": {
  "kaggle": {
   "accelerator": "none",
   "dataSources": [
    {
     "databundleVersionId": 9818394,
     "sourceId": 86524,
     "sourceType": "competition"
    }
   ],
   "dockerImageVersionId": 30786,
   "isGpuEnabled": false,
   "isInternetEnabled": true,
   "language": "python",
   "sourceType": "notebook"
  },
  "kernelspec": {
   "display_name": "Python 3",
   "language": "python",
   "name": "python3"
  },
  "language_info": {
   "codemirror_mode": {
    "name": "ipython",
    "version": 3
   },
   "file_extension": ".py",
   "mimetype": "text/x-python",
   "name": "python",
   "nbconvert_exporter": "python",
   "pygments_lexer": "ipython3",
   "version": "3.11.11"
  },
  "papermill": {
   "default_parameters": {},
   "duration": 997.920865,
   "end_time": "2024-11-29T15:53:00.040042",
   "environment_variables": {},
   "exception": null,
   "input_path": "__notebook__.ipynb",
   "output_path": "__notebook__.ipynb",
   "parameters": {},
   "start_time": "2024-11-29T15:36:22.119177",
   "version": "2.6.0"
  }
 },
 "nbformat": 4,
 "nbformat_minor": 5
}
